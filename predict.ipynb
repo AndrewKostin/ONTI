{
  "nbformat": 4,
  "nbformat_minor": 0,
  "metadata": {
    "colab": {
      "name": "predict.ipynb",
      "provenance": [],
      "include_colab_link": true
    },
    "kernelspec": {
      "name": "python3",
      "display_name": "Python 3"
    },
    "accelerator": "GPU"
  },
  "cells": [
    {
      "cell_type": "markdown",
      "metadata": {
        "id": "view-in-github",
        "colab_type": "text"
      },
      "source": [
        "<a href=\"https://colab.research.google.com/github/AndrewKostin/TUII_2019/blob/master/predict.ipynb\" target=\"_parent\"><img src=\"https://colab.research.google.com/assets/colab-badge.svg\" alt=\"Open In Colab\"/></a>"
      ]
    },
    {
      "cell_type": "code",
      "metadata": {
        "id": "qOPN6CUtxym4",
        "colab_type": "code",
        "outputId": "d43286f3-04af-4575-d27c-c939a15297fe",
        "colab": {
          "base_uri": "https://localhost:8080/",
          "height": 353
        }
      },
      "source": [
        "!pip install catboost"
      ],
      "execution_count": 1,
      "outputs": [
        {
          "output_type": "stream",
          "text": [
            "Collecting catboost\n",
            "\u001b[?25l  Downloading https://files.pythonhosted.org/packages/94/ec/12b9a42b2ea7dfe5b602f235692ab2b61ee1334ff34334a15902272869e8/catboost-0.22-cp36-none-manylinux1_x86_64.whl (64.4MB)\n",
            "\u001b[K     |████████████████████████████████| 64.4MB 47kB/s \n",
            "\u001b[?25hRequirement already satisfied: matplotlib in /usr/local/lib/python3.6/dist-packages (from catboost) (3.1.3)\n",
            "Requirement already satisfied: scipy in /usr/local/lib/python3.6/dist-packages (from catboost) (1.4.1)\n",
            "Requirement already satisfied: pandas>=0.24.0 in /usr/local/lib/python3.6/dist-packages (from catboost) (0.25.3)\n",
            "Requirement already satisfied: six in /usr/local/lib/python3.6/dist-packages (from catboost) (1.12.0)\n",
            "Requirement already satisfied: numpy>=1.16.0 in /usr/local/lib/python3.6/dist-packages (from catboost) (1.17.5)\n",
            "Requirement already satisfied: plotly in /usr/local/lib/python3.6/dist-packages (from catboost) (4.4.1)\n",
            "Requirement already satisfied: graphviz in /usr/local/lib/python3.6/dist-packages (from catboost) (0.10.1)\n",
            "Requirement already satisfied: python-dateutil>=2.1 in /usr/local/lib/python3.6/dist-packages (from matplotlib->catboost) (2.6.1)\n",
            "Requirement already satisfied: cycler>=0.10 in /usr/local/lib/python3.6/dist-packages (from matplotlib->catboost) (0.10.0)\n",
            "Requirement already satisfied: kiwisolver>=1.0.1 in /usr/local/lib/python3.6/dist-packages (from matplotlib->catboost) (1.1.0)\n",
            "Requirement already satisfied: pyparsing!=2.0.4,!=2.1.2,!=2.1.6,>=2.0.1 in /usr/local/lib/python3.6/dist-packages (from matplotlib->catboost) (2.4.6)\n",
            "Requirement already satisfied: pytz>=2017.2 in /usr/local/lib/python3.6/dist-packages (from pandas>=0.24.0->catboost) (2018.9)\n",
            "Requirement already satisfied: retrying>=1.3.3 in /usr/local/lib/python3.6/dist-packages (from plotly->catboost) (1.3.3)\n",
            "Requirement already satisfied: setuptools in /usr/local/lib/python3.6/dist-packages (from kiwisolver>=1.0.1->matplotlib->catboost) (45.2.0)\n",
            "Installing collected packages: catboost\n",
            "Successfully installed catboost-0.22\n"
          ],
          "name": "stdout"
        }
      ]
    },
    {
      "cell_type": "code",
      "metadata": {
        "id": "BZA70z_qx-I_",
        "colab_type": "code",
        "outputId": "989b74ee-18df-4086-915f-4953688bfce2",
        "colab": {
          "base_uri": "https://localhost:8080/",
          "height": 120
        }
      },
      "source": [
        "import pandas as pd\n",
        "import numpy as np\n",
        "\n",
        "from catboost import CatBoostClassifier, Pool\n",
        "from sklearn.model_selection import train_test_split, KFold\n",
        "\n",
        "from google.colab import files, drive\n",
        "drive.mount('/content/drive')"
      ],
      "execution_count": 2,
      "outputs": [
        {
          "output_type": "stream",
          "text": [
            "Go to this URL in a browser: https://accounts.google.com/o/oauth2/auth?client_id=947318989803-6bn6qk8qdgf4n4g3pfee6491hc0brc4i.apps.googleusercontent.com&redirect_uri=urn%3aietf%3awg%3aoauth%3a2.0%3aoob&response_type=code&scope=email%20https%3a%2f%2fwww.googleapis.com%2fauth%2fdocs.test%20https%3a%2f%2fwww.googleapis.com%2fauth%2fdrive%20https%3a%2f%2fwww.googleapis.com%2fauth%2fdrive.photos.readonly%20https%3a%2f%2fwww.googleapis.com%2fauth%2fpeopleapi.readonly\n",
            "\n",
            "Enter your authorization code:\n",
            "··········\n",
            "Mounted at /content/drive\n"
          ],
          "name": "stdout"
        }
      ]
    },
    {
      "cell_type": "code",
      "metadata": {
        "id": "BHDzK5KbyKcR",
        "colab_type": "code",
        "colab": {}
      },
      "source": [
        "path = '/content/drive/My Drive/colab/ONTI_FINAL/{}'\n",
        "\n",
        "# train = pd.read_csv(path.format('transactions_train.csv'))\n",
        "# test = pd.read_csv(path.format('transactions_test.csv'))\n",
        "\n",
        "target = pd.read_csv(\n",
        "    path.format('train_target.csv'),\n",
        "    index_col='client_dk')\n",
        "target.columns = target.columns.astype(int)\n",
        "\n",
        "test = pd.read_csv(\n",
        "    path.format('test.csv'),\n",
        "    index_col='client_dk')\n",
        "\n",
        "big = pd.read_csv(\n",
        "    path.format('big.csv'),\n",
        "    index_col='client_dk')\n",
        "# transactions = pd.concat([train, test]).reset_index(drop=True)"
      ],
      "execution_count": 0,
      "outputs": []
    },
    {
      "cell_type": "code",
      "metadata": {
        "id": "4EU9jAN2yz1Q",
        "colab_type": "code",
        "colab": {}
      },
      "source": [
        "i_l, i_v = train_test_split(target.index, test_size=0.2, random_state=666)"
      ],
      "execution_count": 0,
      "outputs": []
    },
    {
      "cell_type": "code",
      "metadata": {
        "id": "WVapeYvLy-hD",
        "colab_type": "code",
        "outputId": "ba044c1c-7626-4dd0-d3e4-87bfd2e92159",
        "colab": {
          "base_uri": "https://localhost:8080/",
          "height": 400
        }
      },
      "source": [
        "clf = CatBoostClassifier(\n",
        "    depth=6,\n",
        "    learning_rate = 0.007,\n",
        "    iterations=15000,\n",
        "    verbose=200,\n",
        "    use_best_model=True,\n",
        "    random_state=430,\n",
        "    eval_metric='AUC',\n",
        "    custom_metric=['AUC'],\n",
        "    task_type='GPU',\n",
        ")\n",
        "\n",
        "clf.fit(\n",
        "    big.loc[i_l], target.loc[i_l, 27],\n",
        "    eval_set=Pool(big.loc[i_v], target.loc[i_v, 27]),\n",
        "    early_stopping_rounds = 700\n",
        ")"
      ],
      "execution_count": 8,
      "outputs": [
        {
          "output_type": "stream",
          "text": [
            "0:\tlearn: 0.8496526\ttest: 0.8525985\tbest: 0.8525985 (0)\ttotal: 67.8ms\tremaining: 16m 56s\n",
            "200:\tlearn: 0.8773266\ttest: 0.8710305\tbest: 0.8710814 (197)\ttotal: 12.4s\tremaining: 15m 15s\n",
            "400:\tlearn: 0.8823030\ttest: 0.8719633\tbest: 0.8719947 (399)\ttotal: 24.8s\tremaining: 15m 1s\n",
            "600:\tlearn: 0.8865522\ttest: 0.8726981\tbest: 0.8727129 (584)\ttotal: 37.1s\tremaining: 14m 49s\n",
            "800:\tlearn: 0.8901244\ttest: 0.8731755\tbest: 0.8732108 (784)\ttotal: 49.5s\tremaining: 14m 36s\n",
            "1000:\tlearn: 0.8932383\ttest: 0.8733718\tbest: 0.8734089 (992)\ttotal: 1m 1s\tremaining: 14m 23s\n",
            "1200:\tlearn: 0.8961636\ttest: 0.8734118\tbest: 0.8735145 (1101)\ttotal: 1m 13s\tremaining: 14m 9s\n",
            "1400:\tlearn: 0.8987667\ttest: 0.8735595\tbest: 0.8735675 (1380)\ttotal: 1m 25s\tremaining: 13m 53s\n",
            "1600:\tlearn: 0.9013434\ttest: 0.8735224\tbest: 0.8736302 (1476)\ttotal: 1m 38s\tremaining: 13m 40s\n",
            "1800:\tlearn: 0.9037625\ttest: 0.8737658\tbest: 0.8737658 (1800)\ttotal: 1m 50s\tremaining: 13m 27s\n",
            "2000:\tlearn: 0.9060325\ttest: 0.8737697\tbest: 0.8738090 (1850)\ttotal: 2m 2s\tremaining: 13m 14s\n",
            "2200:\tlearn: 0.9081544\ttest: 0.8738014\tbest: 0.8738669 (2123)\ttotal: 2m 14s\tremaining: 13m 1s\n",
            "2400:\tlearn: 0.9100444\ttest: 0.8739250\tbest: 0.8739426 (2357)\ttotal: 2m 26s\tremaining: 12m 49s\n",
            "2600:\tlearn: 0.9119793\ttest: 0.8740338\tbest: 0.8740487 (2524)\ttotal: 2m 38s\tremaining: 12m 36s\n",
            "2800:\tlearn: 0.9136906\ttest: 0.8740248\tbest: 0.8740541 (2779)\ttotal: 2m 51s\tremaining: 12m 25s\n",
            "3000:\tlearn: 0.9153790\ttest: 0.8740742\tbest: 0.8741305 (2924)\ttotal: 3m 3s\tremaining: 12m 11s\n",
            "3200:\tlearn: 0.9170199\ttest: 0.8740560\tbest: 0.8741305 (2924)\ttotal: 3m 15s\tremaining: 11m 58s\n",
            "3400:\tlearn: 0.9184821\ttest: 0.8738800\tbest: 0.8741305 (2924)\ttotal: 3m 26s\tremaining: 11m 45s\n",
            "3600:\tlearn: 0.9199286\ttest: 0.8739163\tbest: 0.8741305 (2924)\ttotal: 3m 38s\tremaining: 11m 32s\n",
            "bestTest = 0.8741304874\n",
            "bestIteration = 2924\n",
            "Shrink model to first 2925 iterations.\n"
          ],
          "name": "stdout"
        },
        {
          "output_type": "execute_result",
          "data": {
            "text/plain": [
              "<catboost.core.CatBoostClassifier at 0x7f20e7d97940>"
            ]
          },
          "metadata": {
            "tags": []
          },
          "execution_count": 8
        }
      ]
    },
    {
      "cell_type": "code",
      "metadata": {
        "id": "_XRTKdhr1kpe",
        "colab_type": "code",
        "colab": {}
      },
      "source": [
        "clfs = {}\n",
        "clfs[27] = clf"
      ],
      "execution_count": 0,
      "outputs": []
    },
    {
      "cell_type": "code",
      "metadata": {
        "id": "JKqrmr9X2DWS",
        "colab_type": "code",
        "outputId": "7f6b787d-fe4d-48c4-d881-0eea927a82cd",
        "colab": {
          "base_uri": "https://localhost:8080/",
          "height": 33
        }
      },
      "source": [
        "clfs"
      ],
      "execution_count": 10,
      "outputs": [
        {
          "output_type": "execute_result",
          "data": {
            "text/plain": [
              "{27: <catboost.core.CatBoostClassifier at 0x7f20e7d97940>}"
            ]
          },
          "metadata": {
            "tags": []
          },
          "execution_count": 10
        }
      ]
    },
    {
      "cell_type": "code",
      "metadata": {
        "id": "V_P-9s2l0pzM",
        "colab_type": "code",
        "outputId": "7cd11719-2264-4127-8e07-92a35de90ee6",
        "colab": {
          "base_uri": "https://localhost:8080/",
          "height": 1000
        }
      },
      "source": [
        "\n",
        "for col in target.columns[1:]:\n",
        "    clf_ = CatBoostClassifier(\n",
        "        depth=6,\n",
        "        learning_rate = 0.007,\n",
        "        iterations=15000,\n",
        "        verbose=250,\n",
        "        use_best_model=True,\n",
        "        random_state=430,\n",
        "        eval_metric='AUC',\n",
        "        custom_metric=['AUC'],\n",
        "        task_type='GPU',\n",
        "    )\n",
        "\n",
        "    clf_.fit(\n",
        "        big.loc[i_l], target.loc[i_l, col],\n",
        "        eval_set=Pool(big.loc[i_v], target.loc[i_v, col]),\n",
        "        early_stopping_rounds = 700\n",
        "    )\n",
        "\n",
        "    clfs[col] = clf_\n"
      ],
      "execution_count": 14,
      "outputs": [
        {
          "output_type": "stream",
          "text": [
            "0:\tlearn: 0.7598013\ttest: 0.7532011\tbest: 0.7532011 (0)\ttotal: 73.6ms\tremaining: 18m 24s\n",
            "250:\tlearn: 0.7909160\ttest: 0.7841527\tbest: 0.7841720 (249)\ttotal: 15.4s\tremaining: 15m 6s\n",
            "500:\tlearn: 0.7998943\ttest: 0.7863531\tbest: 0.7863531 (500)\ttotal: 30.5s\tremaining: 14m 43s\n",
            "750:\tlearn: 0.8069620\ttest: 0.7870249\tbest: 0.7870412 (749)\ttotal: 45.5s\tremaining: 14m 23s\n",
            "1000:\tlearn: 0.8131877\ttest: 0.7877793\tbest: 0.7877793 (1000)\ttotal: 1m\tremaining: 14m 12s\n",
            "1250:\tlearn: 0.8188098\ttest: 0.7876726\tbest: 0.7878162 (1025)\ttotal: 1m 16s\tremaining: 14m\n",
            "1500:\tlearn: 0.8243219\ttest: 0.7875915\tbest: 0.7878162 (1025)\ttotal: 1m 31s\tremaining: 13m 46s\n",
            "bestTest = 0.7878162265\n",
            "bestIteration = 1025\n",
            "Shrink model to first 1026 iterations.\n",
            "0:\tlearn: 0.8323758\ttest: 0.8285008\tbest: 0.8285008 (0)\ttotal: 61.9ms\tremaining: 15m 28s\n",
            "250:\tlearn: 0.8568825\ttest: 0.8569839\tbest: 0.8570051 (249)\ttotal: 15.5s\tremaining: 15m 13s\n",
            "500:\tlearn: 0.8629215\ttest: 0.8596426\tbest: 0.8596426 (500)\ttotal: 31.1s\tremaining: 14m 59s\n",
            "750:\tlearn: 0.8679094\ttest: 0.8607598\tbest: 0.8607903 (741)\ttotal: 46.6s\tremaining: 14m 45s\n",
            "1000:\tlearn: 0.8726429\ttest: 0.8613243\tbest: 0.8613631 (980)\ttotal: 1m 2s\tremaining: 14m 31s\n",
            "1250:\tlearn: 0.8771967\ttest: 0.8617429\tbest: 0.8617429 (1250)\ttotal: 1m 17s\tremaining: 14m 16s\n",
            "1500:\tlearn: 0.8816242\ttest: 0.8620145\tbest: 0.8620145 (1500)\ttotal: 1m 33s\tremaining: 14m\n",
            "1750:\tlearn: 0.8861379\ttest: 0.8622811\tbest: 0.8622992 (1746)\ttotal: 1m 49s\tremaining: 13m 45s\n",
            "2000:\tlearn: 0.8901644\ttest: 0.8624069\tbest: 0.8624415 (1977)\ttotal: 2m 4s\tremaining: 13m 30s\n",
            "2250:\tlearn: 0.8935640\ttest: 0.8625500\tbest: 0.8625657 (2227)\ttotal: 2m 20s\tremaining: 13m 13s\n",
            "2500:\tlearn: 0.8967879\ttest: 0.8626922\tbest: 0.8627362 (2470)\ttotal: 2m 35s\tremaining: 12m 56s\n",
            "2750:\tlearn: 0.9000337\ttest: 0.8629172\tbest: 0.8629372 (2704)\ttotal: 2m 50s\tremaining: 12m 39s\n",
            "3000:\tlearn: 0.9029977\ttest: 0.8629755\tbest: 0.8630220 (2984)\ttotal: 3m 5s\tremaining: 12m 21s\n",
            "3250:\tlearn: 0.9057382\ttest: 0.8630491\tbest: 0.8631032 (3209)\ttotal: 3m 20s\tremaining: 12m 4s\n",
            "3500:\tlearn: 0.9084834\ttest: 0.8631119\tbest: 0.8631527 (3484)\ttotal: 3m 35s\tremaining: 11m 47s\n",
            "3750:\tlearn: 0.9109750\ttest: 0.8631220\tbest: 0.8631527 (3484)\ttotal: 3m 50s\tremaining: 11m 32s\n",
            "4000:\tlearn: 0.9134731\ttest: 0.8629691\tbest: 0.8631527 (3484)\ttotal: 4m 6s\tremaining: 11m 16s\n",
            "bestTest = 0.8631526828\n",
            "bestIteration = 3484\n",
            "Shrink model to first 3485 iterations.\n",
            "0:\tlearn: 0.7612062\ttest: 0.7523239\tbest: 0.7523239 (0)\ttotal: 64.4ms\tremaining: 16m 6s\n",
            "250:\tlearn: 0.7809952\ttest: 0.7642168\tbest: 0.7642168 (250)\ttotal: 15.7s\tremaining: 15m 21s\n",
            "500:\tlearn: 0.7892021\ttest: 0.7661279\tbest: 0.7661318 (495)\ttotal: 31.2s\tremaining: 15m 2s\n",
            "750:\tlearn: 0.7957321\ttest: 0.7671708\tbest: 0.7671708 (750)\ttotal: 46.6s\tremaining: 14m 43s\n",
            "1000:\tlearn: 0.8014250\ttest: 0.7680666\tbest: 0.7680746 (997)\ttotal: 1m 1s\tremaining: 14m 22s\n",
            "1250:\tlearn: 0.8068337\ttest: 0.7685000\tbest: 0.7685093 (1248)\ttotal: 1m 16s\tremaining: 14m 2s\n",
            "1500:\tlearn: 0.8118554\ttest: 0.7688574\tbest: 0.7688574 (1500)\ttotal: 1m 31s\tremaining: 13m 44s\n",
            "1750:\tlearn: 0.8171423\ttest: 0.7688760\tbest: 0.7689504 (1614)\ttotal: 1m 46s\tremaining: 13m 26s\n",
            "2000:\tlearn: 0.8221058\ttest: 0.7689607\tbest: 0.7690068 (1877)\ttotal: 2m 1s\tremaining: 13m 11s\n",
            "2250:\tlearn: 0.8268909\ttest: 0.7689089\tbest: 0.7690068 (1877)\ttotal: 2m 17s\tremaining: 12m 56s\n",
            "2500:\tlearn: 0.8314211\ttest: 0.7689467\tbest: 0.7690068 (1877)\ttotal: 2m 32s\tremaining: 12m 42s\n",
            "bestTest = 0.7690068483\n",
            "bestIteration = 1877\n",
            "Shrink model to first 1878 iterations.\n",
            "0:\tlearn: 0.8648758\ttest: 0.7994945\tbest: 0.7994945 (0)\ttotal: 60.9ms\tremaining: 15m 13s\n",
            "250:\tlearn: 0.9319736\ttest: 0.8358022\tbest: 0.8371244 (243)\ttotal: 15.7s\tremaining: 15m 22s\n",
            "500:\tlearn: 0.9441676\ttest: 0.8435085\tbest: 0.8435302 (497)\ttotal: 31.2s\tremaining: 15m 3s\n",
            "750:\tlearn: 0.9491464\ttest: 0.8406732\tbest: 0.8436013 (501)\ttotal: 46.7s\tremaining: 14m 45s\n",
            "1000:\tlearn: 0.9523747\ttest: 0.8407882\tbest: 0.8436013 (501)\ttotal: 1m 2s\tremaining: 14m 27s\n",
            "bestTest = 0.8436012864\n",
            "bestIteration = 501\n",
            "Shrink model to first 502 iterations.\n",
            "0:\tlearn: 0.6955318\ttest: 0.6792910\tbest: 0.6792910 (0)\ttotal: 61ms\tremaining: 15m 15s\n",
            "250:\tlearn: 0.7989703\ttest: 0.7652213\tbest: 0.7652213 (250)\ttotal: 15.5s\tremaining: 15m 8s\n",
            "500:\tlearn: 0.8160396\ttest: 0.7667994\tbest: 0.7668389 (480)\ttotal: 31s\tremaining: 14m 56s\n",
            "750:\tlearn: 0.8295350\ttest: 0.7662203\tbest: 0.7671716 (518)\ttotal: 46.5s\tremaining: 14m 42s\n",
            "1000:\tlearn: 0.8418156\ttest: 0.7658031\tbest: 0.7671716 (518)\ttotal: 1m 1s\tremaining: 14m 26s\n",
            "bestTest = 0.7671716213\n",
            "bestIteration = 518\n",
            "Shrink model to first 519 iterations.\n",
            "0:\tlearn: 0.9127688\ttest: 0.9617521\tbest: 0.9617521 (0)\ttotal: 68.4ms\tremaining: 17m 6s\n",
            "250:\tlearn: 0.9893997\ttest: 0.9707783\tbest: 0.9752221 (92)\ttotal: 15.1s\tremaining: 14m 47s\n",
            "500:\tlearn: 0.9926905\ttest: 0.9707947\tbest: 0.9752221 (92)\ttotal: 30.3s\tremaining: 14m 35s\n",
            "750:\tlearn: 0.9940639\ttest: 0.9680718\tbest: 0.9752221 (92)\ttotal: 45.3s\tremaining: 14m 20s\n",
            "bestTest = 0.9752220511\n",
            "bestIteration = 92\n",
            "Shrink model to first 93 iterations.\n",
            "0:\tlearn: 0.6928279\ttest: 0.7270738\tbest: 0.7270738 (0)\ttotal: 60.1ms\tremaining: 15m 2s\n",
            "250:\tlearn: 0.8464465\ttest: 0.7968401\tbest: 0.8018184 (92)\ttotal: 15.5s\tremaining: 15m 11s\n",
            "500:\tlearn: 0.8736435\ttest: 0.8054149\tbest: 0.8057142 (441)\ttotal: 31s\tremaining: 14m 58s\n",
            "750:\tlearn: 0.8892078\ttest: 0.8033093\tbest: 0.8064736 (509)\ttotal: 46.3s\tremaining: 14m 38s\n",
            "1000:\tlearn: 0.8994170\ttest: 0.8046040\tbest: 0.8064736 (509)\ttotal: 1m 1s\tremaining: 14m 19s\n",
            "bestTest = 0.8064735532\n",
            "bestIteration = 509\n",
            "Shrink model to first 510 iterations.\n"
          ],
          "name": "stdout"
        }
      ]
    },
    {
      "cell_type": "code",
      "metadata": {
        "id": "K9e_Q0076ULG",
        "colab_type": "code",
        "colab": {}
      },
      "source": [
        "for key, clf in clfs.items():\n",
        "    test[key] = clf.predict_proba(big.loc[test.index])[:, 1]"
      ],
      "execution_count": 0,
      "outputs": []
    },
    {
      "cell_type": "code",
      "metadata": {
        "id": "GyioeI916u6q",
        "colab_type": "code",
        "colab": {}
      },
      "source": [
        "test.to_csv(path.format('otvet.csv'))"
      ],
      "execution_count": 0,
      "outputs": []
    },
    {
      "cell_type": "code",
      "metadata": {
        "id": "QKH2RidFBsA5",
        "colab_type": "code",
        "colab": {}
      },
      "source": [
        "for i in clfs:\n",
        "  clfs[i].save_model(f'{i}_model', format='cbm')"
      ],
      "execution_count": 0,
      "outputs": []
    },
    {
      "cell_type": "code",
      "metadata": {
        "id": "PZXUoN7BEC3o",
        "colab_type": "code",
        "colab": {}
      },
      "source": [
        ""
      ],
      "execution_count": 0,
      "outputs": []
    }
  ]
}