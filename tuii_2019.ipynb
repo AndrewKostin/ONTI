{
  "nbformat": 4,
  "nbformat_minor": 0,
  "metadata": {
    "colab": {
      "name": "tuii_2019.ipynb",
      "provenance": [],
      "collapsed_sections": []
    },
    "language_info": {
      "codemirror_mode": {
        "name": "ipython",
        "version": 3
      },
      "file_extension": ".py",
      "mimetype": "text/x-python",
      "name": "python",
      "nbconvert_exporter": "python",
      "pygments_lexer": "ipython3",
      "version": "3.7.0"
    },
    "kernelspec": {
      "display_name": "Python 3",
      "language": "python",
      "name": "python3"
    }
  },
  "cells": [
    {
      "cell_type": "markdown",
      "metadata": {
        "id": "5XOMPxJPJ9ui",
        "colab_type": "text"
      },
      "source": [
        "![](https://s.tcdn.co/d06/e20/d06e2057-5c13-324d-b94f-9b5a0e64f2da/14.png)"
      ]
    },
    {
      "cell_type": "code",
      "metadata": {
        "id": "REGUWEMhKAKX",
        "colab_type": "code",
        "colab": {}
      },
      "source": [
        "import numpy as np\n",
        "import random as rd\n",
        "import time"
      ],
      "execution_count": 0,
      "outputs": []
    },
    {
      "cell_type": "code",
      "metadata": {
        "id": "IDOeB10klESU",
        "colab_type": "code",
        "colab": {}
      },
      "source": [
        "exp = 10**10 #на поле будет использоваться в качестве стены"
      ],
      "execution_count": 0,
      "outputs": []
    },
    {
      "cell_type": "code",
      "metadata": {
        "id": "YoClUohvlESv",
        "colab_type": "code",
        "outputId": "e09a8a9a-0e87-4f55-e89e-55ba5397d90c",
        "colab": {
          "base_uri": "https://localhost:8080/",
          "height": 33
        }
      },
      "source": [
        "def sozd_wall(pole):\n",
        "    for i in range(size_y + 1):\n",
        "        pole[i][0] = exp\n",
        "        pole[i][size_x] = exp\n",
        "    for i in range(size_x + 1):\n",
        "        pole[0][i] = exp\n",
        "        pole[size_y][i] = exp\n",
        "\"\"\"\n",
        "пока ненужная нам функция, если понадобиться то будем использовать\n",
        "\"\"\""
      ],
      "execution_count": 3,
      "outputs": [
        {
          "output_type": "execute_result",
          "data": {
            "text/plain": [
              "'\\nпока ненужная нам функция, если понадобиться то будем использовать\\n'"
            ]
          },
          "metadata": {
            "tags": []
          },
          "execution_count": 3
        }
      ]
    },
    {
      "cell_type": "code",
      "metadata": {
        "id": "Z0FMk3fKlETC",
        "colab_type": "code",
        "colab": {}
      },
      "source": [
        "def current(Xo, Yo, X, Y):\n",
        "    if ((Y-Yo)==1):\n",
        "        return 'b' #back\n",
        "    elif ((X-Xo)==1):\n",
        "        return 'r' #right\n",
        "    elif ((Yo-Y)==1):\n",
        "        return 'f' #forward\n",
        "    elif ((Xo-X)==1):\n",
        "        return 'l' #left\n",
        "    else:\n",
        "        return 'not identified'"
      ],
      "execution_count": 0,
      "outputs": []
    },
    {
      "cell_type": "code",
      "metadata": {
        "id": "13hfiwzJlETI",
        "colab_type": "code",
        "colab": {}
      },
      "source": [
        "def yes_or_no(pole, current, X, Y):\n",
        "    if (current=='b'):\n",
        "        if (Y==(size_y - 1)):\n",
        "            return 'n'\n",
        "        else:\n",
        "            return 'y'\n",
        "        \n",
        "    elif (current=='r'):\n",
        "        if (X==(size_x - 1)):\n",
        "            return 'n'\n",
        "        else:\n",
        "            return 'y'\n",
        "        \n",
        "    elif (current=='f'):\n",
        "        if (Y==0):\n",
        "            return 'n'\n",
        "        else:\n",
        "            return 'y'\n",
        "        \n",
        "    else:\n",
        "        if (X==0):\n",
        "            return 'n'\n",
        "        else:\n",
        "            return 'y'"
      ],
      "execution_count": 0,
      "outputs": []
    },
    {
      "cell_type": "code",
      "metadata": {
        "id": "Y-5oRSudlETN",
        "colab_type": "code",
        "colab": {}
      },
      "source": [
        "def min_kolvo(pole, X, Y, Xo, Yo):\n",
        "    \n",
        "    if (yes_or_no(pole, 'f', X, Y)=='y'):\n",
        "        f = pole[Y-1][X]\n",
        "    else:\n",
        "        f = exp\n",
        "        \n",
        "    if (yes_or_no(pole, 'r', X, Y)=='y'):\n",
        "        r = pole[Y][X+1]\n",
        "    else:\n",
        "        r = exp\n",
        "        \n",
        "    if (yes_or_no(pole, 'b', X, Y)=='y'):\n",
        "        b = pole[Y+1][X]\n",
        "    else:\n",
        "        b = exp\n",
        "        \n",
        "    if (yes_or_no(pole, 'l', X, Y)=='y'):\n",
        "        l = pole[Y][X-1]\n",
        "    else:\n",
        "        l = exp \n",
        "    \n",
        "    cur = current(Xo, Yo, X, Y)\n",
        "    \n",
        "    min_kolvo = min(f, r, b, l)\n",
        "   \n",
        "    if (cur == 'f'):\n",
        "        if (min_kolvo==f):\n",
        "            return 'f'\n",
        "        elif (min_kolvo==l):\n",
        "            return 'l'\n",
        "        elif (min_kolvo==b):\n",
        "            return 'b'\n",
        "        else:\n",
        "            return 'r'\n",
        "        \n",
        "    elif (cur == 'r'):\n",
        "        if (min_kolvo==l):\n",
        "            return 'l'\n",
        "        elif (min_kolvo==f):\n",
        "            return 'f'\n",
        "        elif (min_kolvo==r):\n",
        "            return 'r'\n",
        "        else:\n",
        "            return 'b'\n",
        "     \n",
        "    elif (cur == 'l'):\n",
        "        if (min_kolvo==f):\n",
        "            return 'f'\n",
        "        elif (min_kolvo==l):\n",
        "            return 'l'\n",
        "        elif (min_kolvo==b):\n",
        "            return 'b'\n",
        "        else:\n",
        "            return 'r'\n",
        "        \n",
        "    else:\n",
        "        if (min_kolvo==l):\n",
        "            return 'l'\n",
        "        elif (min_kolvo==f):\n",
        "            return 'f'\n",
        "        elif (min_kolvo==r):\n",
        "            return 'r'\n",
        "        else:\n",
        "            return 'b'"
      ],
      "execution_count": 0,
      "outputs": []
    },
    {
      "cell_type": "code",
      "metadata": {
        "id": "SEsgcRuJlETS",
        "colab_type": "code",
        "colab": {}
      },
      "source": [
        "def turn(pole, X, Y, Xo, Yo):\n",
        "    \n",
        "    cur= min_kolvo(pole, X, Y, Xo, Yo)\n",
        "    \n",
        "    if (cur == 'f'):\n",
        "        Xo, Yo = X, Y\n",
        "        X = X\n",
        "        Y = Y - 1\n",
        "    elif (cur == 'b'):\n",
        "        Xo, Yo = X, Y\n",
        "        X = X\n",
        "        Y = Y + 1\n",
        "    elif (cur == 'r'):\n",
        "        Xo, Yo = X, Y\n",
        "        X = X + 1\n",
        "        Y = Y\n",
        "    else:\n",
        "        Xo, Yo = X, Y\n",
        "        X = X - 1\n",
        "        Y = Y\n",
        "        \n",
        "    return X, Y, Xo, Yo, cur"
      ],
      "execution_count": 0,
      "outputs": []
    },
    {
      "cell_type": "code",
      "metadata": {
        "id": "odMDiOgvlETW",
        "colab_type": "code",
        "colab": {}
      },
      "source": [
        "def walls(massiv, pole, size_x, size_y):\n",
        "    s = ''\n",
        "    for a in range(0, len(massiv), 2):\n",
        "        x, y = massiv[a] - 1, massiv[a+1] - 1\n",
        "        if ((x<size_x) and (y<size_y)):    \n",
        "            pole[y][x] = exp\n",
        "            s+= ' ok '\n",
        "        else:\n",
        "            s += ' impossible '\n",
        "    return s"
      ],
      "execution_count": 0,
      "outputs": []
    },
    {
      "cell_type": "code",
      "metadata": {
        "id": "T1vyNSYblETd",
        "colab_type": "code",
        "colab": {}
      },
      "source": [
        "def proverka_clear_cletok(pole, x, y, size_x, size_y):\n",
        "    massiv = []\n",
        "    if (x>0):\n",
        "        if (pole[y][x-1]!=exp):\n",
        "            massiv += [(x-1), y]\n",
        "            \n",
        "    if (y>0):\n",
        "        if (pole[y-1][x]!=exp):\n",
        "            massiv += [x, (y-1)]\n",
        "            \n",
        "    if (x!=(size_x-1)):\n",
        "        if (pole[y][x+1]!=exp):\n",
        "            massiv += [(x+1), y]\n",
        "            \n",
        "    if (y!=(size_y-1)):\n",
        "        if (pole[y+1][x]!=exp):\n",
        "            massiv += [x, (y+1)]\n",
        "            \n",
        "    return massiv"
      ],
      "execution_count": 0,
      "outputs": []
    },
    {
      "cell_type": "code",
      "metadata": {
        "id": "OxEnaEm9lETj",
        "colab_type": "code",
        "colab": {}
      },
      "source": [
        "def rekursiya(pole_p, x, y, size_x, size_y):\n",
        "    if ((x==(size_x-1)) and (y==(size_y-1))):\n",
        "        return 'yes'\n",
        "    \n",
        "    else:\n",
        "        massiv = proverka_clear_cletok(pole_p, x, y, size_x, size_y)\n",
        "        if (len(massiv)==0):\n",
        "            return 'bl*n'\n",
        "        \n",
        "        for i in range(0, len(massiv), 2):\n",
        "            pole_p[massiv[i+1]][massiv[i]] = exp\n",
        "            rekursiya(pole_p, massiv[i], massiv[i+1], size_x, size_y)        \n",
        "            \n",
        "    if (pole_p[size_y-1][size_x-1]==exp):\n",
        "        return 'yes'\n",
        "    else:\n",
        "        return 'bl*n'"
      ],
      "execution_count": 0,
      "outputs": []
    },
    {
      "cell_type": "code",
      "metadata": {
        "id": "cBMw7NuYlETt",
        "colab_type": "code",
        "colab": {}
      },
      "source": [
        "size_x = 6 #размер матрицы x\n",
        "size_y = 6 #размер матрицы y\n",
        "size = size_x"
      ],
      "execution_count": 0,
      "outputs": []
    },
    {
      "cell_type": "markdown",
      "metadata": {
        "id": "guHHLxaBInn-",
        "colab_type": "text"
      },
      "source": [
        "#ПЕРЕБОР"
      ]
    },
    {
      "cell_type": "code",
      "metadata": {
        "id": "3muSy-qNlJC-",
        "colab_type": "code",
        "outputId": "56471c3e-f29d-4700-aedb-2d0db7ba2d8c",
        "colab": {
          "base_uri": "https://localhost:8080/",
          "height": 350
        }
      },
      "source": [
        "t1 = time.time()\n",
        "ma = 0\n",
        "count = 0\n",
        "pole_m = []\n",
        "itera = 500000\n",
        "for i in range(itera):\n",
        "  massiv = []\n",
        "  kol = 0\n",
        "  \n",
        "  if (i/itera)==0.01:\n",
        "    print (\"1% done time teaching is: \", (time.time()- t1)/60, \"max now:\", ma)\n",
        "  if (i/itera)==0.1:\n",
        "    print (\"10% done time teaching is: \", (time.time()- t1)/60, \"max now:\", ma)\n",
        "  if (i/itera)==0.2:\n",
        "    print (\"20% done time teaching is: \", (time.time()- t1)/60, \"max now:\", ma)\n",
        "  if (i/itera)==0.3:\n",
        "    print (\"30% done time teaching is: \", (time.time()- t1)/60, \"max now:\", ma)\n",
        "  if (i/itera)==0.4:\n",
        "    print (\"40% done time teaching is: \", (time.time()- t1)/60, \"max now:\", ma)\n",
        "  if (i/itera)==0.5:\n",
        "    print (\"50% done time teaching is: \", (time.time()- t1)/60, \"max now:\", ma)\n",
        "  if (i/itera)==0.6:\n",
        "    print (\"60% done time teaching is: \", (time.time()- t1)/60, \"max now:\", ma)\n",
        "  if (i/itera)==0.7:\n",
        "    print (\"70% done time teaching is: \", (time.time()- t1)/60, \"max now:\", ma)\n",
        "  if (i/itera)==0.8:\n",
        "    print (\"80% done time teaching is: \", (time.time()- t1)/60, \"max now:\", ma)\n",
        "  if (i/itera)==0.9:\n",
        "    print (\"90% done time teaching is: \", (time.time()- t1)/60, \"max now:\", ma)\n",
        "  if (i/(itera-1))==1:\n",
        "    print (\"100% done time teaching is: \", (time.time()- t1)/60, \"max now:\", ma)\n",
        "\n",
        "  \n",
        "  \n",
        "  for i in range(rd.randint(1,(size_x)*(size_y-1)-1)):\n",
        "    a = rd.randint(1,(size_x-1)*(size_y-1))\n",
        "    x = a%size\n",
        "    y = a//size\n",
        "    massiv += [x, y]\n",
        "  pole = np.zeros((size_y, size_x))\n",
        "  X, Y = 0, 0 #переменные, которые определяют положение жука на поле\n",
        "  Xo, Yo = 0, 0 #переменные, которые определяют предидущее положение жука на поле\n",
        "  walls(massiv, pole, size_x, size_y)\n",
        "  pole_p = pole\n",
        "  \n",
        "    \n",
        "  if (rekursiya(pole_p, 0, 0, size_x, size_y)=='yes'):\n",
        "    pole = np.zeros((size_y, size_x))\n",
        "    walls(massiv, pole, size_x, size_y)\n",
        "    pole[0][0] = 1\n",
        "    while (X!=(size_x - 1)) or (Y!=(size_y - 1)):\n",
        "      X, Y, Xo, Yo, cur = turn(pole, X, Y, Xo, Yo)\n",
        "      pole[Y][X] += 1\n",
        "      kol += 1\n",
        "      #print (X, ' ', Y, ' ', kol, ' ', cur)\n",
        "  else:\n",
        "    #print(\"not possible\")\n",
        "    count += 1\n",
        "      \n",
        "    \n",
        "  if (kol>ma):\n",
        "    ma = kol\n",
        "    pole = np.zeros((size_y, size_x))\n",
        "    walls(massiv, pole, size_x, size_y)\n",
        "    pole_m = pole\n",
        "t2 = time.time()\n",
        "dt = (t2-t1)/60\n",
        "print(\"time is:\", dt)\n",
        "print(\"wrong is:\", count/itera)\n",
        "print(\"score is:\", ma)\n",
        "print(pole_m)"
      ],
      "execution_count": 29,
      "outputs": [
        {
          "output_type": "stream",
          "text": [
            "1% done time teaching is:  0.021185723940531413 max now: 106\n",
            "10% done time teaching is:  0.205832040309906 max now: 128\n",
            "20% done time teaching is:  0.41238657633463544 max now: 128\n",
            "30% done time teaching is:  0.615545411904653 max now: 128\n",
            "40% done time teaching is:  0.8203034043312073 max now: 134\n",
            "50% done time teaching is:  1.0244112690289815 max now: 134\n",
            "60% done time teaching is:  1.230489965279897 max now: 134\n",
            "70% done time teaching is:  1.4348093668619792 max now: 134\n",
            "80% done time teaching is:  1.639106814066569 max now: 134\n",
            "90% done time teaching is:  1.8422708868980409 max now: 134\n",
            "100% done time teaching is:  2.045744550228119 max now: 138\n",
            "time is: 2.0457608064015704\n",
            "wrong is: 0.462486\n",
            "score is: 138\n",
            "[[1.e+10 0.e+00 0.e+00 0.e+00 0.e+00 1.e+10]\n",
            " [0.e+00 0.e+00 0.e+00 1.e+10 0.e+00 1.e+10]\n",
            " [0.e+00 0.e+00 1.e+10 0.e+00 1.e+10 0.e+00]\n",
            " [1.e+10 0.e+00 0.e+00 0.e+00 0.e+00 0.e+00]\n",
            " [0.e+00 0.e+00 0.e+00 0.e+00 0.e+00 0.e+00]\n",
            " [0.e+00 0.e+00 1.e+10 0.e+00 1.e+10 0.e+00]]\n"
          ],
          "name": "stdout"
        }
      ]
    },
    {
      "cell_type": "markdown",
      "metadata": {
        "id": "elv_c1X_I3xk",
        "colab_type": "text"
      },
      "source": [
        "![Image of Yaktocat](https://s.tcdn.co/869/281/86928106-6812-340c-9d51-70ef0f8a4771/33.png)"
      ]
    },
    {
      "cell_type": "markdown",
      "metadata": {
        "id": "9RqFgj7vIsyC",
        "colab_type": "text"
      },
      "source": [
        "#ГЕНЕТИЧЕСКИЙ АЛГОРИТМ"
      ]
    },
    {
      "cell_type": "markdown",
      "metadata": {
        "id": "P7HT2bNlKbgU",
        "colab_type": "text"
      },
      "source": [
        "![](https://s.tcdn.co/afd/2d9/afd2d9fe-6d3a-37b8-babb-97dfb9e243a5/18.png)"
      ]
    },
    {
      "cell_type": "code",
      "metadata": {
        "id": "5WEk4qmsIv9W",
        "colab_type": "code",
        "colab": {}
      },
      "source": [
        "def create_population(kol, size_x, size_y):\n",
        "  population = []\n",
        "  for i in range(kol): #создаем популяцию\n",
        "    massiv = []\n",
        "    for i in range(rd.randint(0,((size_x)*(size_y))//2)): #создаем одно поле со стенками\n",
        "      a = rd.randint(1,(size_x)*(size_y)-1)\n",
        "      x = a%size_x\n",
        "      y = a//size_x\n",
        "      massiv += [x, y]\n",
        "    pole_ = np.zeros((size_y, size_x)) \n",
        "    walls(massiv, pole_, size_x, size_y) #получили поле со стенами\n",
        "    population += [pole_] #добавили в популяцию\n",
        "  return population\n",
        "    \n",
        "def create_population_v2(kol, size_x, size_y):\n",
        "  population = np.random.randint(2, size=(kol, size_x, size_y))\n",
        "  return population"
      ],
      "execution_count": 0,
      "outputs": []
    },
    {
      "cell_type": "code",
      "metadata": {
        "id": "2DltrWptKgre",
        "colab_type": "code",
        "colab": {}
      },
      "source": [
        "def reproduction(pole_1, pole_2):\n",
        "  pole_3 = []\n",
        "  up = pole_1[:len(population[0])//2][:]  \n",
        "  down = pole_2[len(population[0])//2:][:]\n",
        "  pole_3 = np.vstack((up, down))\n",
        "  return pole_3"
      ],
      "execution_count": 0,
      "outputs": []
    },
    {
      "cell_type": "code",
      "metadata": {
        "id": "HUu4oH6ZKgxA",
        "colab_type": "code",
        "colab": {}
      },
      "source": [
        "def count_rez(population):\n",
        "  rez = []\n",
        "  for i in range(len(population.copy())):\n",
        "    pole_p = population[i].copy()\n",
        "    pole = population[i].copy()\n",
        "    if (rekursiya(pole_p.copy(), 0, 0, size_x, size_y)=='yes'):\n",
        "      kol = 0\n",
        "      pole[0][0] = 1\n",
        "      X, Y = 0, 0\n",
        "      Xo, Yo = 0, 0\n",
        "      while (X!=(size_x - 1)) or (Y!=(size_y - 1)):\n",
        "              X, Y, Xo, Yo, cur = turn(pole, X, Y, Xo, Yo)\n",
        "              pole[Y][X] += 1\n",
        "              kol += 1\n",
        "              #print (X, ' ', Y, ' ', kol, ' ', cur)\n",
        "      rez += [kol]\n",
        "    else:\n",
        "      rez += [0]\n",
        "  return rez"
      ],
      "execution_count": 0,
      "outputs": []
    },
    {
      "cell_type": "code",
      "metadata": {
        "id": "CNlBqP5JKgu_",
        "colab_type": "code",
        "colab": {}
      },
      "source": [
        "def findall(pole, chto):\n",
        "  s = []\n",
        "  for i in range(len(pole)):\n",
        "    for a in range(len(pole)):\n",
        "      if (pole[i][a]==chto):\n",
        "        s+=[i, a]\n",
        "  return s"
      ],
      "execution_count": 0,
      "outputs": []
    },
    {
      "cell_type": "code",
      "metadata": {
        "id": "GeV9SRF1Kgo0",
        "colab_type": "code",
        "colab": {}
      },
      "source": [
        "def mutation(pole, exp, size):\n",
        "  steni = findall(pole, exp)\n",
        "  if (len(steni)==0):\n",
        "    a = rd.randint(1,(size)*(size)-1)\n",
        "    x = a%size\n",
        "    y = a//size\n",
        "    pole[y][x] = exp\n",
        "  else:\n",
        "    a = rd.randint(0, size - 1)\n",
        "    b = rd.randint(0, size - 1)\n",
        "    x = a\n",
        "    y = b\n",
        "    pole[y][x] = 0\n",
        "  return pole"
      ],
      "execution_count": 0,
      "outputs": []
    },
    {
      "cell_type": "markdown",
      "metadata": {
        "id": "Z-IDEDTHKtFZ",
        "colab_type": "text"
      },
      "source": [
        "#ОСНОВНАЯ ПРОГА ГЕНЕТИЧЕСКОГО АЛГОРИТМА"
      ]
    },
    {
      "cell_type": "code",
      "metadata": {
        "id": "gXkNKN0WKnuT",
        "colab_type": "code",
        "colab": {}
      },
      "source": [
        "size_x = 3 #размер матрицы x\n",
        "size_y = 3 #размер матрицы y\n",
        "k = 300 #кол-во экземпляров в популяции\n",
        "schastie = 100 #кол-во счастливичков для размножения\n",
        "ff = schastie//2"
      ],
      "execution_count": 0,
      "outputs": []
    },
    {
      "cell_type": "code",
      "metadata": {
        "id": "ZzVWcQK9Knz9",
        "colab_type": "code",
        "colab": {
          "base_uri": "https://localhost:8080/",
          "height": 66
        },
        "outputId": "de3920cc-9ab8-43da-96bc-2c7f9171c361"
      },
      "source": [
        "population = create_population(k, size_x, size_y)\n",
        "\n",
        "rez = count_rez(population.copy())\n",
        "ma_o = 0\n",
        "ma_n = max(rez)\n",
        "population[0]"
      ],
      "execution_count": 31,
      "outputs": [
        {
          "output_type": "execute_result",
          "data": {
            "text/plain": [
              "array([[1.e+10, 0.e+00, 0.e+00],\n",
              "       [0.e+00, 0.e+00, 0.e+00],\n",
              "       [0.e+00, 0.e+00, 0.e+00]])"
            ]
          },
          "metadata": {
            "tags": []
          },
          "execution_count": 31
        }
      ]
    },
    {
      "cell_type": "code",
      "metadata": {
        "id": "PB3nZui1Knx3",
        "colab_type": "code",
        "colab": {
          "base_uri": "https://localhost:8080/",
          "height": 33
        },
        "outputId": "c0b8a405-664d-4456-b939-8bc981d8f9f4"
      },
      "source": [
        "ma_n"
      ],
      "execution_count": 32,
      "outputs": [
        {
          "output_type": "execute_result",
          "data": {
            "text/plain": [
              "12"
            ]
          },
          "metadata": {
            "tags": []
          },
          "execution_count": 32
        }
      ]
    },
    {
      "cell_type": "code",
      "metadata": {
        "id": "Q0lEmte_K7yW",
        "colab_type": "code",
        "colab": {
          "base_uri": "https://localhost:8080/",
          "height": 66
        },
        "outputId": "a1b7d37e-4ccc-4cdc-b557-6f480ffbd4f2"
      },
      "source": [
        "ind = rez.index(ma_n)\n",
        "pole_m = population[ind]\n",
        "pole_m"
      ],
      "execution_count": 33,
      "outputs": [
        {
          "output_type": "execute_result",
          "data": {
            "text/plain": [
              "array([[0.e+00, 0.e+00, 0.e+00],\n",
              "       [0.e+00, 0.e+00, 0.e+00],\n",
              "       [1.e+10, 1.e+10, 0.e+00]])"
            ]
          },
          "metadata": {
            "tags": []
          },
          "execution_count": 33
        }
      ]
    },
    {
      "cell_type": "code",
      "metadata": {
        "id": "wMmON7vrK74X",
        "colab_type": "code",
        "colab": {
          "base_uri": "https://localhost:8080/",
          "height": 471
        },
        "outputId": "a84159d5-2dd9-4e01-fd52-80d1ec77b3d2"
      },
      "source": [
        "\"\"\"Цикл который работает пока результат не понижается\"\"\"\n",
        "ma_c = 0\n",
        "t1 = time.time()\n",
        "itera = 0\n",
        "pole_m = []\n",
        "ind = 0\n",
        "const = 100 #максимальное кол-во размножений\n",
        "print(\"teaching... \")\n",
        "while (ma_n>=ma_o):\n",
        "  itera+=1\n",
        "  if (ma_n>ma_c):\n",
        "    ma_c = ma_n\n",
        "    ind = rez.index(ma_c)\n",
        "    pole_m = population[ind]\n",
        "\n",
        "  rez = count_rez(population.copy())\n",
        "  ma_o = max(rez)\n",
        "  prob = [rez[i]/sum(rez) for i in range(len(rez))] #делаем массив вероятностей для размножения\n",
        "  select = np.random.choice(len(rez), schastie, replace=False, p = prob) #выбираем k счастливчиков для размножения\n",
        "  for a in range(ff):\n",
        "    pole_new = reproduction(population[select[rd.randint(0, len(select) - 1)]], population[select[rd.randint(0, len(select) - 1)]]) #само рахмножение\n",
        "    pole_new = mutation(pole_new, exp, size_x) #мутация\n",
        "    population += [pole_new] #добавили в популяцию\n",
        "  rez = count_rez(population.copy())\n",
        "  ma_n = max(rez)\n",
        "  if (ma_n<ma_o):\n",
        "    break\n",
        "    \n",
        "  if (itera/const==0.01):\n",
        "    print(\"1% teaching time is\", (time.time()-t1)/60, \"max is:\", ma_c, \"количество особей:\", len(population))\n",
        "  elif (itera/const==0.1):\n",
        "    print(\"10% teaching time is\", (time.time()-t1)/60, \"max is:\", ma_c, \"количество особей:\", len(population))\n",
        "  elif (itera/const==0.2):\n",
        "    print(\"20% teaching time is\", (time.time()-t1)/60, \"max is:\", ma_c, \"количество особей:\", len(population))\n",
        "  elif (itera/const==0.3):\n",
        "    print(\"30% teaching time is\", (time.time()-t1)/60, \"max is:\", ma_c, \"количество особей:\", len(population))\n",
        "  elif (itera/const==0.4):\n",
        "    print(\"40% teaching time is\", (time.time()-t1)/60, \"max is:\", ma_c, \"количество особей:\", len(population))\n",
        "  elif (itera/const==0.5):\n",
        "    print(\"50% teaching time is\", (time.time()-t1)/60, \"max is:\", ma_c, \"количество особей:\", len(population))\n",
        "  elif (itera/const==0.6):\n",
        "    print(\"60% teaching time is\", (time.time()-t1)/60, \"max is:\", ma_c, \"количество особей:\", len(population))\n",
        "  elif (itera/const==0.7):\n",
        "    print(\"70% teaching time is\", (time.time()-t1)/60, \"max is:\", ma_c, \"количество особей:\", len(population))\n",
        "  elif (itera/const==0.8):\n",
        "    print(\"80% teaching time is\", (time.time()-t1)/60, \"max is:\", ma_c, \"количество особей:\", len(population))\n",
        "  elif (itera/const==0.9):\n",
        "    print(\"90% teaching time is\", (time.time()-t1)/60, \"max is:\", ma_c, \"количество особей:\", len(population))\n",
        "  elif (itera/(const)==1.0):\n",
        "    print(\"100% teaching time is\", (time.time()-t1)/60, \"max is:\", ma_c, \"количество особей:\", len(population))\n",
        "  \n",
        "  if (itera==const):\n",
        "    break\n",
        "\n",
        "  \n",
        "print(\"complete!\") \n",
        "\n",
        "    \n",
        "t2 = time.time()\n",
        "dt = (t2-t1)/60\n",
        "print(\"time is: \", dt)\n",
        "print(\"itera is: \", itera)\n",
        "print(\"max is: \", ma_c)\n",
        "print(\"pole max is:\")\n",
        "print(pole_m)"
      ],
      "execution_count": 27,
      "outputs": [
        {
          "output_type": "stream",
          "text": [
            "teaching... \n",
            "1% teaching time is 0.003293891747792562 max is: 112 количество особей: 350\n",
            "10% teaching time is 0.0612900455792745 max is: 118 количество особей: 800\n",
            "20% teaching time is 0.18705010414123535 max is: 122 количество особей: 1300\n",
            "30% teaching time is 0.38150837024052936 max is: 122 количество особей: 1800\n",
            "40% teaching time is 0.6443841934204102 max is: 122 количество особей: 2300\n"
          ],
          "name": "stdout"
        },
        {
          "output_type": "error",
          "ename": "KeyboardInterrupt",
          "evalue": "ignored",
          "traceback": [
            "\u001b[0;31m---------------------------------------------------------------------------\u001b[0m",
            "\u001b[0;31mKeyboardInterrupt\u001b[0m                         Traceback (most recent call last)",
            "\u001b[0;32m<ipython-input-27-222b74523c09>\u001b[0m in \u001b[0;36m<module>\u001b[0;34m()\u001b[0m\n\u001b[1;32m     22\u001b[0m     \u001b[0mpole_new\u001b[0m \u001b[0;34m=\u001b[0m \u001b[0mmutation\u001b[0m\u001b[0;34m(\u001b[0m\u001b[0mpole_new\u001b[0m\u001b[0;34m,\u001b[0m \u001b[0mexp\u001b[0m\u001b[0;34m,\u001b[0m \u001b[0msize_x\u001b[0m\u001b[0;34m)\u001b[0m \u001b[0;31m#мутация\u001b[0m\u001b[0;34m\u001b[0m\u001b[0;34m\u001b[0m\u001b[0m\n\u001b[1;32m     23\u001b[0m     \u001b[0mpopulation\u001b[0m \u001b[0;34m+=\u001b[0m \u001b[0;34m[\u001b[0m\u001b[0mpole_new\u001b[0m\u001b[0;34m]\u001b[0m \u001b[0;31m#добавили в популяцию\u001b[0m\u001b[0;34m\u001b[0m\u001b[0;34m\u001b[0m\u001b[0m\n\u001b[0;32m---> 24\u001b[0;31m   \u001b[0mrez\u001b[0m \u001b[0;34m=\u001b[0m \u001b[0mcount_rez\u001b[0m\u001b[0;34m(\u001b[0m\u001b[0mpopulation\u001b[0m\u001b[0;34m.\u001b[0m\u001b[0mcopy\u001b[0m\u001b[0;34m(\u001b[0m\u001b[0;34m)\u001b[0m\u001b[0;34m)\u001b[0m\u001b[0;34m\u001b[0m\u001b[0;34m\u001b[0m\u001b[0m\n\u001b[0m\u001b[1;32m     25\u001b[0m   \u001b[0mma_n\u001b[0m \u001b[0;34m=\u001b[0m \u001b[0mmax\u001b[0m\u001b[0;34m(\u001b[0m\u001b[0mrez\u001b[0m\u001b[0;34m)\u001b[0m\u001b[0;34m\u001b[0m\u001b[0;34m\u001b[0m\u001b[0m\n\u001b[1;32m     26\u001b[0m   \u001b[0;32mif\u001b[0m \u001b[0;34m(\u001b[0m\u001b[0mma_n\u001b[0m\u001b[0;34m<\u001b[0m\u001b[0mma_o\u001b[0m\u001b[0;34m)\u001b[0m\u001b[0;34m:\u001b[0m\u001b[0;34m\u001b[0m\u001b[0;34m\u001b[0m\u001b[0m\n",
            "\u001b[0;32m<ipython-input-14-d96024292c41>\u001b[0m in \u001b[0;36mcount_rez\u001b[0;34m(population)\u001b[0m\n\u001b[1;32m     10\u001b[0m       \u001b[0mXo\u001b[0m\u001b[0;34m,\u001b[0m \u001b[0mYo\u001b[0m \u001b[0;34m=\u001b[0m \u001b[0;36m0\u001b[0m\u001b[0;34m,\u001b[0m \u001b[0;36m0\u001b[0m\u001b[0;34m\u001b[0m\u001b[0;34m\u001b[0m\u001b[0m\n\u001b[1;32m     11\u001b[0m       \u001b[0;32mwhile\u001b[0m \u001b[0;34m(\u001b[0m\u001b[0mX\u001b[0m\u001b[0;34m!=\u001b[0m\u001b[0;34m(\u001b[0m\u001b[0msize_x\u001b[0m \u001b[0;34m-\u001b[0m \u001b[0;36m1\u001b[0m\u001b[0;34m)\u001b[0m\u001b[0;34m)\u001b[0m \u001b[0;32mor\u001b[0m \u001b[0;34m(\u001b[0m\u001b[0mY\u001b[0m\u001b[0;34m!=\u001b[0m\u001b[0;34m(\u001b[0m\u001b[0msize_y\u001b[0m \u001b[0;34m-\u001b[0m \u001b[0;36m1\u001b[0m\u001b[0;34m)\u001b[0m\u001b[0;34m)\u001b[0m\u001b[0;34m:\u001b[0m\u001b[0;34m\u001b[0m\u001b[0;34m\u001b[0m\u001b[0m\n\u001b[0;32m---> 12\u001b[0;31m               \u001b[0mX\u001b[0m\u001b[0;34m,\u001b[0m \u001b[0mY\u001b[0m\u001b[0;34m,\u001b[0m \u001b[0mXo\u001b[0m\u001b[0;34m,\u001b[0m \u001b[0mYo\u001b[0m\u001b[0;34m,\u001b[0m \u001b[0mcur\u001b[0m \u001b[0;34m=\u001b[0m \u001b[0mturn\u001b[0m\u001b[0;34m(\u001b[0m\u001b[0mpole\u001b[0m\u001b[0;34m,\u001b[0m \u001b[0mX\u001b[0m\u001b[0;34m,\u001b[0m \u001b[0mY\u001b[0m\u001b[0;34m,\u001b[0m \u001b[0mXo\u001b[0m\u001b[0;34m,\u001b[0m \u001b[0mYo\u001b[0m\u001b[0;34m)\u001b[0m\u001b[0;34m\u001b[0m\u001b[0;34m\u001b[0m\u001b[0m\n\u001b[0m\u001b[1;32m     13\u001b[0m               \u001b[0mpole\u001b[0m\u001b[0;34m[\u001b[0m\u001b[0mY\u001b[0m\u001b[0;34m]\u001b[0m\u001b[0;34m[\u001b[0m\u001b[0mX\u001b[0m\u001b[0;34m]\u001b[0m \u001b[0;34m+=\u001b[0m \u001b[0;36m1\u001b[0m\u001b[0;34m\u001b[0m\u001b[0;34m\u001b[0m\u001b[0m\n\u001b[1;32m     14\u001b[0m               \u001b[0mkol\u001b[0m \u001b[0;34m+=\u001b[0m \u001b[0;36m1\u001b[0m\u001b[0;34m\u001b[0m\u001b[0;34m\u001b[0m\u001b[0m\n",
            "\u001b[0;32m<ipython-input-7-ab12eeeac1e7>\u001b[0m in \u001b[0;36mturn\u001b[0;34m(pole, X, Y, Xo, Yo)\u001b[0m\n\u001b[0;32m----> 1\u001b[0;31m \u001b[0;32mdef\u001b[0m \u001b[0mturn\u001b[0m\u001b[0;34m(\u001b[0m\u001b[0mpole\u001b[0m\u001b[0;34m,\u001b[0m \u001b[0mX\u001b[0m\u001b[0;34m,\u001b[0m \u001b[0mY\u001b[0m\u001b[0;34m,\u001b[0m \u001b[0mXo\u001b[0m\u001b[0;34m,\u001b[0m \u001b[0mYo\u001b[0m\u001b[0;34m)\u001b[0m\u001b[0;34m:\u001b[0m\u001b[0;34m\u001b[0m\u001b[0;34m\u001b[0m\u001b[0m\n\u001b[0m\u001b[1;32m      2\u001b[0m \u001b[0;34m\u001b[0m\u001b[0m\n\u001b[1;32m      3\u001b[0m     \u001b[0mcur\u001b[0m\u001b[0;34m=\u001b[0m \u001b[0mmin_kolvo\u001b[0m\u001b[0;34m(\u001b[0m\u001b[0mpole\u001b[0m\u001b[0;34m,\u001b[0m \u001b[0mX\u001b[0m\u001b[0;34m,\u001b[0m \u001b[0mY\u001b[0m\u001b[0;34m,\u001b[0m \u001b[0mXo\u001b[0m\u001b[0;34m,\u001b[0m \u001b[0mYo\u001b[0m\u001b[0;34m)\u001b[0m\u001b[0;34m\u001b[0m\u001b[0;34m\u001b[0m\u001b[0m\n\u001b[1;32m      4\u001b[0m \u001b[0;34m\u001b[0m\u001b[0m\n\u001b[1;32m      5\u001b[0m     \u001b[0;32mif\u001b[0m \u001b[0;34m(\u001b[0m\u001b[0mcur\u001b[0m \u001b[0;34m==\u001b[0m \u001b[0;34m'f'\u001b[0m\u001b[0;34m)\u001b[0m\u001b[0;34m:\u001b[0m\u001b[0;34m\u001b[0m\u001b[0;34m\u001b[0m\u001b[0m\n",
            "\u001b[0;31mKeyboardInterrupt\u001b[0m: "
          ]
        }
      ]
    },
    {
      "cell_type": "markdown",
      "metadata": {
        "id": "hZHPkNp7I9_2",
        "colab_type": "text"
      },
      "source": [
        "#В поиске новых идей\n",
        "![Image of Yaktocat](https://chpic.su/_data/stickers/b/blobbyyyy/blobbyyyy_001.webp)"
      ]
    },
    {
      "cell_type": "markdown",
      "metadata": {
        "id": "yvor1T_DJvkV",
        "colab_type": "text"
      },
      "source": [
        "![](https://s.tcdn.co/869/281/86928106-6812-340c-9d51-70ef0f8a4771/39.png)"
      ]
    },
    {
      "cell_type": "code",
      "metadata": {
        "id": "ZB38gP-3I-hs",
        "colab_type": "code",
        "colab": {}
      },
      "source": [
        ""
      ],
      "execution_count": 0,
      "outputs": []
    }
  ]
}